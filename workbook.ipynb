{
 "cells": [
  {
   "cell_type": "code",
   "execution_count": 4,
   "metadata": {},
   "outputs": [
    {
     "data": {
      "text/html": [
       "<link href=\"https://fonts.googleapis.com/css?family=Merriweather:300,300i,400,400i,700,700i,900,900i\" rel='stylesheet' >\n",
       "<link href=\"https://fonts.googleapis.com/css?family=Source+Sans+Pro:300,300i,400,400i,700,700i\" rel='stylesheet' >\n",
       "<link href='http://fonts.googleapis.com/css?family=Source+Code+Pro:300,400' rel='stylesheet' >\n",
       "<style>\n",
       "@import url('https://fonts.googleapis.com/css?family=Quicksand:500');\n",
       "@font-face {\n",
       "    font-family: \"Computer Modern\";\n",
       "    src: url('http://mirrors.ctan.org/fonts/cm-unicode/fonts/otf/cmunss.otf');\n",
       "}\n",
       "\n",
       "\n",
       ".prompt {\n",
       "         display: none;\n",
       "}\n",
       "\n",
       "div #notebook{\n",
       "  margin:auto;\n",
       "}\n",
       "\n",
       "#notebook ul {\n",
       "  list-style: none; /* Remove default bullets */\n",
       "}\n",
       "\n",
       "#notebook ul li::before {\n",
       "  content: \"\\2022\";  /* Add content: \\2022 is the CSS Code/unicode for a bullet */\n",
       "  color: #9c2906; /* Change the color */\n",
       "  font-weight: bold; /* If you want it to be bold */\n",
       "  display: inline-block; /* Needed to add space between the bullet and the text */\n",
       "  width: 1em; /* Also needed for space (tweak if needed) */\n",
       "  margin-left: -2em; /* Also needed for space (tweak if needed) */\n",
       "}\n",
       "\n",
       "\n",
       "#notebook li { /* More space between bullet points */\n",
       "margin-top:0.5em;\n",
       "}\n",
       "\n",
       "div.output_subarea {\n",
       "    padding-top: 1em;\n",
       "    padding-bottom: 1em;\n",
       "    margin-left:0em;\n",
       "}\n",
       "\n",
       "\n",
       "\n",
       "/* Put a solid color box around each cell and its output, visually linking them*/\n",
       "div.cell.code_cell {\n",
       "    background-color: rgb(256,256,256);\n",
       "    width: 80%;\n",
       "    margin:auto;\n",
       "}\n",
       "\n",
       "\n",
       "div.text_cell_render{\n",
       "    /*font-family: 'Quicksand', sans-serif;*/\n",
       "    font-family: 'Source Sans Pro', sans-serif;\n",
       "    line-height: 120%;\n",
       "    font-size: 130%;\n",
       "    width: 80%;\n",
       "    margin:auto;\n",
       "    color: #19334d;\n",
       "\n",
       "}\n",
       "\n",
       "/* Formatting for header cells */\n",
       ".text_cell_render h1 {\n",
       "    font-family: 'Quicksand', sans-serif;\n",
       "    /*font-family: 'Merriweather', serif;*/\n",
       "    font-style:regular;\n",
       "    font-weight: bold;\n",
       "    font-size: 160%;\n",
       "    line-height: 100%;\n",
       "    color: #9c2906;\n",
       "    margin-left: 0em;\n",
       "    margin-bottom: 1em;\n",
       "    margin-top: 2em;\n",
       "    display: block;\n",
       "}\n",
       ".text_cell_render h2 {\n",
       "    font-family: 'Quicksand', sans-serif;\n",
       "    /*font-family: 'Merriweather', serif;*/\n",
       "    font-weight: semi-bold;\n",
       "    font-size: 140%;\n",
       "    line-height: 100%;\n",
       "    color: #9c2906;\n",
       "    margin-bottom: 0.5em;\n",
       "    margin-top: 0.5em;\n",
       "    padding-top: 1.5em;\n",
       "    padding-bottom: -1em;\n",
       "    display: block;\n",
       "}\n",
       "\n",
       ".text_cell_render h3 {\n",
       "    font-family: 'Quicksand', sans-serif;\n",
       "    /*font-family: 'Merriweather', serif;*/\n",
       "    font-weight: regular;\n",
       "\t  font-size: 120%;\n",
       "    margin-top:12px;\n",
       "    margin-bottom: 0px;\n",
       "    padding-top: 0.5em;\n",
       "    color: #9c2906;\n",
       "}\n",
       "\n",
       "strong {\n",
       "  color: #9c2906;\n",
       "\n",
       "}\n",
       "\n",
       ".text_cell_render h4 {    /*Use this for captions*/\n",
       "    font-family: 'Quicksand', sans-serif;\n",
       "    /*font-family: 'Merriweather', serif;*/\n",
       "    font-weight: regular;\n",
       "    font-size: 100%;\n",
       "    line-height: 100%;\n",
       "    margin-top: 1em;\n",
       "    margin-bottom: 0px;\n",
       "    margin-left: 0pt;\n",
       "    padding-bottom: 0em;\n",
       "    color: #9c2906;\n",
       "}\n",
       "\n",
       ".text_cell_render h5 {  /*Use this for small titles*/\n",
       "    font-family: 'Quicksand', sans-serif;\n",
       "    /*font-family: 'Source Sans Pro', sans-serif;*/\n",
       "    font-weight: regular;\n",
       "    font-size: 130%;\n",
       "    color: #e31937;\n",
       "    font-style: italic;\n",
       "    margin-bottom: .5em;\n",
       "    margin-top: 1em;\n",
       "    display: block;\n",
       "}\n",
       "\n",
       ".text_cell_render h6 { /*use this for copyright note*/\n",
       "    font-family: 'Source Code Pro', sans-serif;\n",
       "    font-weight: 300;\n",
       "    font-size: 9pt;\n",
       "    line-height: 100%;\n",
       "    color: grey;\n",
       "    margin-bottom: 1px;\n",
       "    margin-top: 1px;\n",
       "}\n",
       "\n",
       "    .CodeMirror{\n",
       "          /*  font-family: \"Source Code Pro\";*/\n",
       "\t\t\tfont-size: 110%;\n",
       "    }\n",
       "\n",
       "\n",
       "\n",
       "    .warning{\n",
       "        color: rgb( 240, 20, 20 )\n",
       "        }\n",
       "</style>\n",
       "<script>\n",
       "    MathJax.Hub.Config({\n",
       "                        TeX: {\n",
       "                           extensions: [\"AMSmath.js\"],\n",
       "                           equationNumbers: { autoNumber: \"AMS\", useLabelIds: true}\n",
       "                           },\n",
       "                tex2jax: {\n",
       "                    inlineMath: [ ['$','$'], [\"\\\\(\",\"\\\\)\"] ],\n",
       "                    displayMath: [ ['$$','$$'], [\"\\\\[\",\"\\\\]\"] ]\n",
       "                },\n",
       "                displayAlign: 'center', // Change this to 'center' to center equations.\n",
       "                \"HTML-CSS\": {\n",
       "                    styles: {'.MathJax_Display': {\"margin\": 4}}\n",
       "                }\n",
       "        });\n",
       "</script>\n"
      ],
      "text/plain": [
       "<IPython.core.display.HTML object>"
      ]
     },
     "execution_count": 4,
     "metadata": {},
     "output_type": "execute_result"
    }
   ],
   "source": [
    "# css styling of the notebook - execute and then ignore\n",
    "import requests, IPython.core.display\n",
    "IPython.core.display.HTML(requests.get(\"https://git.io/fj7u5\").text)"
   ]
  },
  {
   "cell_type": "markdown",
   "metadata": {},
   "source": [
    "# Didnt have time to annotate"
   ]
  },
  {
   "cell_type": "code",
   "execution_count": 5,
   "metadata": {},
   "outputs": [],
   "source": [
    "#load SymPy module content\n",
    "from sympy import *\n",
    "\n",
    "#this makes printouts of matrices and vectors more readeable:\n",
    "init_printing(use_latex='mathjax')"
   ]
  },
  {
   "cell_type": "code",
   "execution_count": 6,
   "metadata": {},
   "outputs": [
    {
     "data": {
      "text/plain": [
       "<Figure size 640x480 with 1 Axes>"
      ]
     },
     "metadata": {},
     "output_type": "display_data"
    }
   ],
   "source": [
    "import matplotlib.pyplot as plt\n",
    "plt.plot([4,0],[8,7])\n",
    "plt.show()"
   ]
  },
  {
   "cell_type": "code",
   "execution_count": 7,
   "metadata": {},
   "outputs": [
    {
     "data": {
      "image/png": "[encoded data removed]",
      "text/plain": [
       "<Figure size 432x288 with 1 Axes>"
      ]
     },
     "metadata": {
      "needs_background": "light"
     },
     "output_type": "display_data"
    }
   ],
   "source": [
    "import matplotlib\n",
    "import matplotlib.pyplot as plt\n",
    "import numpy as np\n",
    "\n",
    "# Data for plotting\n",
    "t = np.arange(0.0, 26.0, .25)\n",
    "s = 1 + np.sin(2 * np.pi * t)\n",
    "\n",
    "fig, ax = plt.subplots()\n",
    "ax.plot(t, s)\n",
    "\n",
    "ax.set(xlabel='time (s)', ylabel='voltage (mV)',\n",
    "       title='About as simple as it gets, folks')\n",
    "\n",
    "ax.grid()\n",
    "\n",
    "fig.savefig(\"test.png\")\n",
    "plt.show()"
   ]
  },
  {
   "cell_type": "code",
   "execution_count": 8,
   "metadata": {},
   "outputs": [
    {
     "data": {
      "image/png": "[encoded data removed]",
      "text/plain": [
       "<Figure size 432x288 with 1 Axes>"
      ]
     },
     "metadata": {
      "needs_background": "light"
     },
     "output_type": "display_data"
    }
   ],
   "source": [
    "import matplotlib\n",
    "import matplotlib.pyplot as plt\n",
    "import numpy as np\n",
    "import random\n",
    "fig, ax = plt.subplots()\n",
    "\n",
    "t = np.arange(0.0, 26, 1)\n",
    "\n",
    "\n",
    "current=0\n",
    "mylist=[0]\n",
    "first=1\n",
    "last=26\n",
    "\n",
    "for i in range(first,last):\n",
    "    if i==last-1 and current==0:\n",
    "        y=current\n",
    "    else:\n",
    "        \n",
    "        if abs(current)>=last-i-1:\n",
    "            if current<0:\n",
    "                y=current+1\n",
    "            elif current>0:\n",
    "                y=current-1\n",
    "        \n",
    "        else:\n",
    "            if current==2:\n",
    "                y=current+random.randint(-1,0)\n",
    "            elif current==-2:\n",
    "                y=current+random.randint(0,1)\n",
    "        \n",
    "            else: y=current+random.randint(-1,1)\n",
    "    \n",
    "    mylist.append(y)\n",
    "    current=y\n",
    "\n",
    "ax.plot(t,mylist)\n",
    "\n",
    "\n",
    "\n",
    "ax.set(xlabel='characters A-Z from 0-25', ylabel='voltage (mV)',\n",
    "       title='About as simple as it gets, folks')\n",
    "ax.grid()\n",
    "\n",
    "fig.savefig(\"tes1t.png\")\n",
    "plt.show()"
   ]
  },
  {
   "cell_type": "code",
   "execution_count": 9,
   "metadata": {},
   "outputs": [
    {
     "name": "stdout",
     "output_type": "stream",
     "text": [
      "5\n",
      "14\n",
      "17\n",
      "12\n",
      "8\n",
      "3\n",
      "0\n",
      "1\n",
      "11\n",
      "4\n"
     ]
    }
   ],
   "source": [
    "import string\n",
    "phrase=\"formidable\"\n",
    "phraseToInt=[]\n",
    "for p in phrase:\n",
    "    x=string.ascii_lowercase.index(p)\n",
    "    phraseToInt.append(x)\n",
    "    print(x)\n"
   ]
  },
  {
   "cell_type": "code",
   "execution_count": 10,
   "metadata": {},
   "outputs": [
    {
     "name": "stdout",
     "output_type": "stream",
     "text": [
      "[Point2D(0, 2), Point2D(1, 0), Point2D(2, 2), Point2D(-2, 3), Point2D(-4, -2), Point2D(-5, -2), Point2D(-6, 0), Point2D(1, -7), Point2D(2, -8), Point2D(1, -9)]\n"
     ]
    }
   ],
   "source": [
    "results=[]\n",
    "rVectors=[]\n",
    "index=0\n",
    "for p in phraseToInt:\n",
    "    results.append(mylist[p])\n",
    "    #[index,mylist[p]]\n",
    "    origCords=Point2D(index,mylist[p])\n",
    "    if ((index+1)/len(phraseToInt))>=0.75:\n",
    "        rVectors.append(origCords.rotate((3*pi)/2))\n",
    "    elif ((index+1)/len(phraseToInt))>=0.50:\n",
    "        rVectors.append(origCords.rotate(pi))\n",
    "    elif ((index+1)/len(phraseToInt))>=0.25:\n",
    "        rVectors.append(origCords.rotate(pi/2))\n",
    "    else: rVectors.append(origCords)\n",
    "    \n",
    "    #newCords=Matrix(origCords)\n",
    "    #newCords=newCords*Matrix([[0,-1]])\n",
    "    #newCords=newCords.T\n",
    "    index+=1\n",
    "   #print(mylist[p])\n",
    "print(rVectors)\n"
   ]
  },
  {
   "cell_type": "code",
   "execution_count": 11,
   "metadata": {},
   "outputs": [
    {
     "data": {
      "image/png": "[encoded data removed]",
      "text/plain": [
       "<Figure size 432x288 with 1 Axes>"
      ]
     },
     "metadata": {
      "needs_background": "light"
     },
     "output_type": "display_data"
    }
   ],
   "source": [
    "fig, ax = plt.subplots()\n",
    "\n",
    "t = np.arange(0.0, 10, 1)\n",
    "ax.plot(t,results)\n",
    "ax.grid()\n",
    "fig.savefig(\"tes2t.png\")\n",
    "plt.show()"
   ]
  },
  {
   "cell_type": "code",
   "execution_count": 12,
   "metadata": {},
   "outputs": [
    {
     "name": "stdout",
     "output_type": "stream",
     "text": [
      "[Point2D(0, 2), Point2D(1, 0), Point2D(2, 2), Point2D(-2, 3), Point2D(-4, -2), Point2D(-5, -2), Point2D(-6, 0), Point2D(1, -7), Point2D(2, -8), Point2D(1, -9)]\n"
     ]
    },
    {
     "data": {
      "image/png": "[encoded data removed]",
      "text/plain": [
       "<Figure size 432x288 with 1 Axes>"
      ]
     },
     "metadata": {
      "needs_background": "light"
     },
     "output_type": "display_data"
    }
   ],
   "source": [
    "\n",
    "\n",
    "print(rVectors)\n",
    "apple=plt.Polygon(rVectors, closed=false, fill=None, edgecolor='r')\n",
    "\n",
    "plt.gca().add_patch(apple)\n",
    "plt.axis('scaled')\n",
    "plt.show()"
   ]
  },
  {
   "cell_type": "code",
   "execution_count": 18,
   "metadata": {},
   "outputs": [
    {
     "data": {
      "text/latex": [
       "$\\displaystyle \\left( -2.409521768555293, \\  2.527303381596122, \\  -2.409521768555293, \\  2.527303381596122\\right)$"
      ],
      "text/plain": [
       "(-2.409521768555293, 2.527303381596122, -2.409521768555293, 2.527303381596122)"
      ]
     },
     "execution_count": 18,
     "metadata": {},
     "output_type": "execute_result"
    },
    {
     "data": {
      "image/png": "[encoded data removed]",
      "text/plain": [
       "<Figure size 432x288 with 1 Axes>"
      ]
     },
     "metadata": {
      "needs_background": "light"
     },
     "output_type": "display_data"
    }
   ],
   "source": [
    "## from matplotlib.path import Path\n",
    "from matplotlib.path import Path\n",
    "import matplotlib.patches as patches\n",
    "\n",
    "\n",
    "n = 8 # Number of possibly sharp edges\n",
    "r = .7 # magnitude of the perturbation from the unit circle, \n",
    "# should be between 0 and 1\n",
    "N = n*3+1 # number of points in the Path\n",
    "# There is the initial point and 3 points per cubic bezier curve. Thus, the curve will only pass though n points, which will be the sharp edges, the other 2 modify the shape of the bezier curve\n",
    "\n",
    "angles = np.linspace(0,2*np.pi,N)\n",
    "codes = np.full(N,Path.CURVE4)\n",
    "codes[0] = Path.MOVETO\n",
    "\n",
    "verts = np.stack((np.cos(angles),np.sin(angles))).T*(2*r*(2*r*np.random.random(N)+1-r))[:,None]\n",
    "verts[-1,:] = verts[0,:] # Using this instad of Path.CLOSEPOLY avoids an innecessary straight line\n",
    "path = Path(verts, codes)\n",
    "\n",
    "path.iter_segments(stroke_width=28.0)\n",
    "fig = plt.figure()\n",
    "ax = fig.add_subplot(111)\n",
    "patch = patches.PathPatch(path, facecolor='none', lw=2)\n",
    "ax.add_patch(patch)\n",
    "\n",
    "ax.set_xlim(np.min(verts)*1.1, np.max(verts)*1.1)\n",
    "ax.set_ylim(np.min(verts)*1.1, np.max(verts)*1.1)\n",
    "ax.axis('on') # removes the axis to leave only the shape\n"
   ]
  },
  {
   "cell_type": "code",
   "execution_count": 19,
   "metadata": {},
   "outputs": [
    {
     "data": {
      "text/plain": [
       "array([[ 2.26788635e+00,  0.00000000e+00],\n",
       "       [ 9.81658310e-01,  2.63034552e-01],\n",
       "       [ 1.14563633e+00,  6.61433446e-01],\n",
       "       [ 3.27466730e-01,  3.27466730e-01],\n",
       "       [ 2.90871259e-01,  5.03803798e-01],\n",
       "       [ 3.91280708e-01,  1.46027948e+00],\n",
       "       [ 1.40684273e-16,  2.29754853e+00],\n",
       "       [-5.57083211e-01,  2.07906285e+00],\n",
       "       [-2.42360083e-01,  4.19779977e-01],\n",
       "       [-5.44161787e-01,  5.44161787e-01],\n",
       "       [-1.18232414e+00,  6.82615163e-01],\n",
       "       [-1.58667427e+00,  4.25148091e-01],\n",
       "       [-1.09235973e+00,  1.33775484e-16],\n",
       "       [-1.29430421e+00, -3.46807769e-01],\n",
       "       [-8.53380971e-01, -4.92699733e-01],\n",
       "       [-1.49001833e+00, -1.49001833e+00],\n",
       "       [-4.58200206e-01, -7.93626036e-01],\n",
       "       [-2.04014179e-01, -7.61391281e-01],\n",
       "       [-2.50620504e-16, -1.36431448e+00],\n",
       "       [ 5.86935829e-01, -2.19047434e+00],\n",
       "       [ 6.68618788e-01, -1.15808171e+00],\n",
       "       [ 1.55411174e+00, -1.55411174e+00],\n",
       "       [ 2.03756191e+00, -1.17638692e+00],\n",
       "       [ 9.20471380e-01, -2.46639563e-01],\n",
       "       [ 2.26788635e+00,  0.00000000e+00]])"
      ]
     },
     "execution_count": 19,
     "metadata": {},
     "output_type": "execute_result"
    },
    {
     "data": {
      "image/png": "[encoded data removed]",
      "text/plain": [
       "<Figure size 432x288 with 1 Axes>"
      ]
     },
     "metadata": {
      "needs_background": "light"
     },
     "output_type": "display_data"
    }
   ],
   "source": [
    "w=path.vertices\n",
    "path=Path(w)\n",
    "fig = plt.figure()\n",
    "ax = fig.add_subplot(111)\n",
    "patch = patches.PathPatch(path, facecolor='none', lw=2)\n",
    "ax.set_xlim(np.min(verts)*1.1, np.max(verts)*1.1)\n",
    "ax.set_ylim(np.min(verts)*1.1, np.max(verts)*1.1)\n",
    "ax.add_patch(patch)\n",
    "w"
   ]
  },
  {
   "cell_type": "code",
   "execution_count": 20,
   "metadata": {},
   "outputs": [
    {
     "ename": "ValueError",
     "evalue": "'vertices' must be a 2D list or array with shape Nx2",
     "output_type": "error",
     "traceback": [
      "\u001b[1;31m---------------------------------------------------------------------------\u001b[0m",
      "\u001b[1;31mValueError\u001b[0m                                Traceback (most recent call last)",
      "\u001b[1;32m<ipython-input-20-1de9344fafb9>\u001b[0m in \u001b[0;36m<module>\u001b[1;34m\u001b[0m\n\u001b[0;32m      8\u001b[0m \u001b[0mcodes\u001b[0m \u001b[1;33m=\u001b[0m \u001b[0mnp\u001b[0m\u001b[1;33m.\u001b[0m\u001b[0mfull\u001b[0m\u001b[1;33m(\u001b[0m\u001b[0mN\u001b[0m\u001b[1;33m,\u001b[0m\u001b[0mPath\u001b[0m\u001b[1;33m.\u001b[0m\u001b[0mCURVE4\u001b[0m\u001b[1;33m)\u001b[0m\u001b[1;33m\u001b[0m\u001b[1;33m\u001b[0m\u001b[0m\n\u001b[0;32m      9\u001b[0m \u001b[0mcodes\u001b[0m\u001b[1;33m[\u001b[0m\u001b[1;36m0\u001b[0m\u001b[1;33m]\u001b[0m \u001b[1;33m=\u001b[0m \u001b[0mPath\u001b[0m\u001b[1;33m.\u001b[0m\u001b[0mMOVETO\u001b[0m\u001b[1;33m\u001b[0m\u001b[1;33m\u001b[0m\u001b[0m\n\u001b[1;32m---> 10\u001b[1;33m \u001b[0mpaths\u001b[0m \u001b[1;33m=\u001b[0m \u001b[0mPath\u001b[0m\u001b[1;33m(\u001b[0m\u001b[0mverts\u001b[0m\u001b[1;33m,\u001b[0m \u001b[0mcodes\u001b[0m\u001b[1;33m)\u001b[0m\u001b[1;33m\u001b[0m\u001b[1;33m\u001b[0m\u001b[0m\n\u001b[0m\u001b[0;32m     11\u001b[0m \u001b[1;33m\u001b[0m\u001b[0m\n\u001b[0;32m     12\u001b[0m \u001b[0mfig\u001b[0m \u001b[1;33m=\u001b[0m \u001b[0mplt\u001b[0m\u001b[1;33m.\u001b[0m\u001b[0mfigure\u001b[0m\u001b[1;33m(\u001b[0m\u001b[1;33m)\u001b[0m\u001b[1;33m\u001b[0m\u001b[1;33m\u001b[0m\u001b[0m\n",
      "\u001b[1;32mC:\\ProgramData\\Anaconda3\\lib\\site-packages\\matplotlib\\path.py\u001b[0m in \u001b[0;36m__init__\u001b[1;34m(self, vertices, codes, _interpolation_steps, closed, readonly)\u001b[0m\n\u001b[0;32m    128\u001b[0m         \u001b[1;32mif\u001b[0m \u001b[0mvertices\u001b[0m\u001b[1;33m.\u001b[0m\u001b[0mndim\u001b[0m \u001b[1;33m!=\u001b[0m \u001b[1;36m2\u001b[0m \u001b[1;32mor\u001b[0m \u001b[0mvertices\u001b[0m\u001b[1;33m.\u001b[0m\u001b[0mshape\u001b[0m\u001b[1;33m[\u001b[0m\u001b[1;36m1\u001b[0m\u001b[1;33m]\u001b[0m \u001b[1;33m!=\u001b[0m \u001b[1;36m2\u001b[0m\u001b[1;33m:\u001b[0m\u001b[1;33m\u001b[0m\u001b[1;33m\u001b[0m\u001b[0m\n\u001b[0;32m    129\u001b[0m             raise ValueError(\n\u001b[1;32m--> 130\u001b[1;33m                 \"'vertices' must be a 2D list or array with shape Nx2\")\n\u001b[0m\u001b[0;32m    131\u001b[0m \u001b[1;33m\u001b[0m\u001b[0m\n\u001b[0;32m    132\u001b[0m         \u001b[1;32mif\u001b[0m \u001b[0mcodes\u001b[0m \u001b[1;32mis\u001b[0m \u001b[1;32mnot\u001b[0m \u001b[1;32mNone\u001b[0m\u001b[1;33m:\u001b[0m\u001b[1;33m\u001b[0m\u001b[1;33m\u001b[0m\u001b[0m\n",
      "\u001b[1;31mValueError\u001b[0m: 'vertices' must be a 2D list or array with shape Nx2"
     ]
    }
   ],
   "source": [
    "n = 8 # Number of possibly sharp edges\n",
    "r = .7 # magnitude of the perturbation from the unit circle, \n",
    "# should be between 0 and 1\n",
    "N = n*3+1 # number of points in the Path\n",
    "\n",
    "verts = np.stack((np.cos(angles),np.sin(angles)))\n",
    "verts[-1,:] = verts[0,:]\n",
    "codes = np.full(N,Path.CURVE4)\n",
    "codes[0] = Path.MOVETO\n",
    "paths = Path(verts, codes)\n",
    "\n",
    "fig = plt.figure()\n",
    "ax = fig.add_subplot(111)\n",
    "patch = patches.PathPatch(paths, facecolor='none', lw=2)\n",
    "ax.add_patch(patch)\n",
    "\n",
    "ax.set_xlim(np.min(verts)*1.1, np.max(verts)*1.1)\n",
    "ax.set_ylim(np.min(verts)*1.1, np.max(verts)*1.1)\n",
    "ax.axis('on') # removes the axis to leave only the shape"
   ]
  },
  {
   "cell_type": "code",
   "execution_count": 21,
   "metadata": {},
   "outputs": [
    {
     "data": {
      "text/plain": [
       "array([[ 2.38000000e+00,  0.00000000e+00],\n",
       "       [ 4.19211809e+00,  1.12327466e+00],\n",
       "       [ 5.45596004e+00,  3.15000000e+00],\n",
       "       [ 5.84070201e+00,  5.84070201e+00],\n",
       "       [ 5.11000000e+00,  8.85077963e+00],\n",
       "       [ 3.15241597e+00,  1.17649766e+01],\n",
       "       [ 8.65825287e-16,  1.41400000e+01],\n",
       "       [-4.16698663e+00,  1.55514058e+01],\n",
       "       [-9.03000000e+00,  1.56404188e+01],\n",
       "       [-1.41562778e+01,  1.41562778e+01],\n",
       "       [-1.90352384e+01,  1.09900000e+01],\n",
       "       [-2.31242643e+01,  6.19612794e+00],\n",
       "       [-2.59000000e+01,  3.17183521e-15],\n",
       "       [-2.69106935e+01, -7.21069860e+00],\n",
       "       [-2.58248775e+01, -1.49100000e+01],\n",
       "       [-2.24718535e+01, -2.24718535e+01],\n",
       "       [-1.68700000e+01, -2.92196971e+01],\n",
       "       [-9.23983991e+00, -3.44835520e+01],\n",
       "       [-6.91802977e-15, -3.76600000e+01],\n",
       "       [ 1.02544106e+01, -3.82699812e+01],\n",
       "       [ 2.07900000e+01, -3.60093363e+01],\n",
       "       [ 3.07874293e+01, -3.07874293e+01],\n",
       "       [ 3.94041559e+01, -2.27500000e+01],\n",
       "       [ 4.58428397e+01, -1.22835519e+01],\n",
       "       [ 2.38000000e+00,  0.00000000e+00]])"
      ]
     },
     "execution_count": 21,
     "metadata": {},
     "output_type": "execute_result"
    },
    {
     "data": {
      "image/png": "[encoded data removed]",
      "text/plain": [
       "<Figure size 432x288 with 1 Axes>"
      ]
     },
     "metadata": {
      "needs_background": "light"
     },
     "output_type": "display_data"
    }
   ],
   "source": [
    "temparray=[]\n",
    "for x in range(1, N+1):\n",
    "    temparray.append(float(x))\n",
    "temparray\n",
    "n = 8 # Number of possibly sharp edges\n",
    "r = .7 # magnitude of the perturbation from the unit circle, \n",
    "# should be between 0 and 1\n",
    "N = n*3+1 # number of points in the Path\n",
    "\n",
    "verts = np.stack((np.cos(angles),np.sin(angles)))\n",
    "verts=verts.T*(2*r*(2*r*np.asarray(temparray)+1-r))[:,None]\n",
    "verts[-1,:] = verts[0,:]\n",
    "\n",
    "paths = Path(verts)\n",
    "\n",
    "fig = plt.figure()\n",
    "ax = fig.add_subplot(111)\n",
    "patch = patches.PathPatch(paths, facecolor='none', lw=2)\n",
    "ax.add_patch(patch)\n",
    "\n",
    "ax.set_xlim(np.min(verts)*1.1, np.max(verts)*1.1)\n",
    "ax.set_ylim(np.min(verts)*1.1, np.max(verts)*1.1)\n",
    "ax.axis('on') # removes the axis to leave only the shape\n",
    "paths.vertices"
   ]
  },
  {
   "cell_type": "code",
   "execution_count": 58,
   "metadata": {},
   "outputs": [
    {
     "data": {
      "image/png": "[encoded data removed]",
      "text/plain": [
       "<Figure size 432x288 with 1 Axes>"
      ]
     },
     "metadata": {
      "needs_background": "light"
     },
     "output_type": "display_data"
    }
   ],
   "source": [
    "v=np.random.random(26*3)\n",
    "t = np.arange(0.0, 26.0*3, 1)\n",
    "\n",
    "\n",
    "fig, ax = plt.subplots()\n",
    "ax.plot(t, v)\n",
    "ax.grid()\n",
    "fig.savefig(\"randomly generated seed.png\")\n",
    "plt.show()"
   ]
  },
  {
   "cell_type": "code",
   "execution_count": 53,
   "metadata": {},
   "outputs": [
    {
     "name": "stdout",
     "output_type": "stream",
     "text": [
      "15\n",
      "24\n",
      "19\n",
      "7\n",
      "14\n",
      "13\n"
     ]
    }
   ],
   "source": [
    "import string\n",
    "phrase=\"python\"\n",
    "phraseToInt=[]\n",
    "for p in phrase:\n",
    "    #x=string.ascii_lowercase.index(p)\n",
    "    x= ord(p)-97\n",
    "    phraseToInt.append(x)\n",
    "    print(x)"
   ]
  },
  {
   "cell_type": "code",
   "execution_count": 54,
   "metadata": {},
   "outputs": [
    {
     "data": {
      "text/plain": [
       "array([0.00807461, 0.54780016, 0.34572971, 0.9647193 , 0.30250093,\n",
       "       0.0291271 , 0.65752482, 0.9337098 , 0.33294161, 0.41168978,\n",
       "       0.34441106, 0.94317403, 0.53572378, 0.1719169 , 0.75659148,\n",
       "       0.54248438, 0.83188487, 0.17077566, 0.86029173, 0.22544402,\n",
       "       0.55378482, 0.72484483, 0.66463263, 0.88946019, 0.33809183,\n",
       "       0.00410083, 0.27108516, 0.82156772, 0.97240571, 0.31456518,\n",
       "       0.70537494, 0.00350813, 0.2956452 , 0.21710667, 0.2997407 ,\n",
       "       0.39678698, 0.23811729, 0.22472893, 0.50985691, 0.8925456 ,\n",
       "       0.93848443, 0.93233801, 0.67162719, 0.0707457 , 0.64725229,\n",
       "       0.76642283, 0.48733766, 0.60255447, 0.37802643, 0.10711212,\n",
       "       0.59865446, 0.60853946, 0.84041072, 0.72265338, 0.88212627,\n",
       "       0.487229  , 0.87748654, 0.2768967 , 0.72621534, 0.86558248,\n",
       "       0.19212247, 0.44443632, 0.70453725, 0.70223916, 0.94023439,\n",
       "       0.96223129, 0.86578219, 0.38366588, 0.00308049, 0.01042184,\n",
       "       0.6439282 , 0.36638238, 0.80504921, 0.7277328 , 0.39694524,\n",
       "       0.00262174, 0.54183258, 0.32748466])"
      ]
     },
     "execution_count": 54,
     "metadata": {},
     "output_type": "execute_result"
    }
   ],
   "source": [
    "v"
   ]
  },
  {
   "cell_type": "code",
   "execution_count": 55,
   "metadata": {},
   "outputs": [
    {
     "data": {
      "text/latex": [
       "$\\displaystyle 19$"
      ],
      "text/plain": [
       "19"
      ]
     },
     "execution_count": 55,
     "metadata": {},
     "output_type": "execute_result"
    }
   ],
   "source": [
    "requiredValues=[]\n",
    "for p in phraseToInt:\n",
    "    requiredValues.extend(v[3*p:(3*p)+3])\n",
    "   # requiredValues.append(v[(3*p)+1])\n",
    "   # requiredValues.append(v[(3*p)+2])\n",
    "requiredValues.append(np.random.random())\n",
    "len(requiredValues)"
   ]
  },
  {
   "cell_type": "code",
   "execution_count": 57,
   "metadata": {},
   "outputs": [
    {
     "data": {
      "text/plain": [
       "Path(array([[ 1.92218875e+00,  0.00000000e+00],\n",
       "       [ 1.29224820e+00,  4.70339881e-01],\n",
       "       [ 1.22644233e+00,  1.02910731e+00],\n",
       "       [ 9.98948223e-01,  1.73022908e+00],\n",
       "       [ 3.20616405e-01,  1.81830599e+00],\n",
       "       [-2.08032719e-01,  1.17981217e+00],\n",
       "       [-4.81358764e-01,  8.33737836e-01],\n",
       "       [-1.41211259e+00,  1.18490315e+00],\n",
       "       [-1.98889857e+00,  7.23899880e-01],\n",
       "       [-1.84069587e+00,  2.25420231e-16],\n",
       "       [-1.61878965e+00, -5.89191248e-01],\n",
       "       [-1.65721610e+00, -1.39056942e+00],\n",
       "       [-8.68194650e-01, -1.50375724e+00],\n",
       "       [-9.70105637e-02, -5.50174246e-01],\n",
       "       [ 2.93224830e-01, -1.66296065e+00],\n",
       "       [ 1.08469469e+00, -1.87874631e+00],\n",
       "       [ 1.73082341e+00, -1.45233328e+00],\n",
       "       [ 2.11184874e+00, -7.68650082e-01],\n",
       "       [ 1.92218875e+00,  0.00000000e+00]]), array([1, 4, 4, 4, 4, 4, 4, 4, 4, 4, 4, 4, 4, 4, 4, 4, 4, 4, 4],\n",
       "      dtype=uint8))"
      ]
     },
     "execution_count": 57,
     "metadata": {},
     "output_type": "execute_result"
    },
    {
     "data": {
      "image/png": "[encoded data removed]",
      "text/plain": [
       "<Figure size 432x288 with 1 Axes>"
      ]
     },
     "metadata": {
      "needs_background": "light"
     },
     "output_type": "display_data"
    }
   ],
   "source": [
    "import matplotlib\n",
    "import matplotlib.pyplot as plt\n",
    "\n",
    "\n",
    "import numpy as np\n",
    "import random\n",
    "temparray=[]\n",
    "\n",
    "n = len(phrase) # Number of possibly sharp edges\n",
    "r = .7 # magnitude of the perturbation from the unit circle, \n",
    "# should be between 0 and 1\n",
    "N = n*3+1 # number of points in the Path\n",
    "\n",
    "angles = np.linspace(0,2*np.pi,N)\n",
    "codes = np.full(N,Path.CURVE4)\n",
    "codes[0] = Path.MOVETO\n",
    "\n",
    "verts = np.stack((np.cos(angles),np.sin(angles)))\n",
    "verts=verts.T*(2*r*(2*r*np.asarray(requiredValues)+1-r))[:,None]\n",
    "verts[-1,:] = verts[0,:]\n",
    "\n",
    "paths = Path(verts,codes)\n",
    "\n",
    "fig = plt.figure()\n",
    "ax = fig.add_subplot(111)\n",
    "patch = patches.PathPatch(paths, facecolor='none', lw=2)\n",
    "ax.add_patch(patch)\n",
    "\n",
    "ax.set_xlim(np.min(verts)*1.1, np.max(verts)*1.1)\n",
    "ax.set_ylim(np.min(verts)*1.1, np.max(verts)*1.1)\n",
    "ax.axis('off') # removes the axis to leave only the shape\n",
    "fig.savefig(\"example7.png\",bbox_inches='tight')\n",
    "\n",
    "yoTimeToPrep=paths.vertices\n",
    "paths"
   ]
  },
  {
   "cell_type": "code",
   "execution_count": 32,
   "metadata": {},
   "outputs": [
    {
     "data": {
      "text/plain": [
       "array([[ 1.99789645e+00,  0.00000000e+00],\n",
       "       [ 1.59899145e+00,  9.23178144e-01],\n",
       "       [ 5.99006340e-01,  1.03750941e+00],\n",
       "       [ 9.00126794e-17,  1.47001861e+00],\n",
       "       [-3.78478567e-01,  6.55544107e-01],\n",
       "       [-1.64797645e+00,  9.51459649e-01],\n",
       "       [-1.47001861e+00,  1.80025359e-16],\n",
       "       [-6.55544107e-01, -3.78478567e-01],\n",
       "       [-9.51459649e-01, -1.64797645e+00],\n",
       "       [-1.76848341e-16, -9.62717528e-01],\n",
       "       [ 9.21691033e-01, -1.59641570e+00],\n",
       "       [ 1.83297884e+00, -1.05827083e+00],\n",
       "       [ 1.99789645e+00,  0.00000000e+00]])"
      ]
     },
     "execution_count": 32,
     "metadata": {},
     "output_type": "execute_result"
    },
    {
     "data": {
      "image/png": "[encoded data removed]",
      "text/plain": [
       "<Figure size 432x288 with 1 Axes>"
      ]
     },
     "metadata": {
      "needs_background": "light"
     },
     "output_type": "display_data"
    }
   ],
   "source": [
    "w=verts\n",
    "path=Path(w)\n",
    "fig = plt.figure()\n",
    "ax = fig.add_subplot(111)\n",
    "patch = patches.PathPatch(path, facecolor='none', lw=2)\n",
    "ax.set_xlim(np.min(verts)*1.1, np.max(verts)*1.1)\n",
    "ax.set_ylim(np.min(verts)*1.1, np.max(verts)*1.1)\n",
    "fig.savefig(\"nonsmoothyeet.png\",bbox_inches='tight')\n",
    "ax.add_patch(patch)\n",
    "w"
   ]
  },
  {
   "cell_type": "code",
   "execution_count": 227,
   "metadata": {},
   "outputs": [
    {
     "data": {
      "text/plain": [
       "array([1.10319034, 0.        , 1.        ])"
      ]
     },
     "execution_count": 227,
     "metadata": {},
     "output_type": "execute_result"
    }
   ],
   "source": [
    "x=np.append(yoTimeToPrep[0],1)\n",
    "x"
   ]
  },
  {
   "cell_type": "code",
   "execution_count": 179,
   "metadata": {},
   "outputs": [
    {
     "data": {
      "text/plain": [
       "array([[ 5.26670974e-01,  0.00000000e+00],\n",
       "       [ 2.08756261e+00,  4.43725130e-01],\n",
       "       [ 2.00643514e+00,  8.93322479e-01],\n",
       "       [ 8.29723413e-01,  6.02829346e-01],\n",
       "       [ 1.38757843e+00,  1.54106197e+00],\n",
       "       [ 1.10395910e+00,  1.91211325e+00],\n",
       "       [ 6.13505604e-01,  1.88817610e+00],\n",
       "       [ 2.46514748e-01,  2.34543115e+00],\n",
       "       [-1.00764758e-01,  9.58712633e-01],\n",
       "       [-5.28606810e-01,  1.62688448e+00],\n",
       "       [-8.60313973e-01,  1.49010751e+00],\n",
       "       [-1.26029287e+00,  1.39969703e+00],\n",
       "       [-6.43061141e-01,  4.67211267e-01],\n",
       "       [-1.91523760e+00,  8.52718717e-01],\n",
       "       [-1.88008753e+00,  3.99624941e-01],\n",
       "       [-2.24153126e+00,  2.74508408e-16],\n",
       "       [-1.29275548e+00, -2.74783660e-01],\n",
       "       [-1.77453965e+00, -7.90075955e-01],\n",
       "       [-4.09334168e-01, -2.97398681e-01],\n",
       "       [-1.00272584e+00, -1.11363987e+00],\n",
       "       [-4.35782033e-01, -7.54796622e-01],\n",
       "       [-6.13505604e-01, -1.88817610e+00],\n",
       "       [-2.46514748e-01, -2.34543115e+00],\n",
       "       [ 1.00764758e-01, -9.58712633e-01],\n",
       "       [ 6.92671253e-01, -2.13182291e+00],\n",
       "       [ 6.60818204e-01, -1.14457070e+00],\n",
       "       [ 1.29976979e+00, -1.44354060e+00],\n",
       "       [ 1.22949978e+00, -8.93283882e-01],\n",
       "       [ 4.13824117e-01, -1.84246367e-01],\n",
       "       [ 1.75349231e+00, -3.72716295e-01],\n",
       "       [ 5.26670974e-01,  0.00000000e+00]])"
      ]
     },
     "execution_count": 179,
     "metadata": {},
     "output_type": "execute_result"
    }
   ],
   "source": [
    "for a in yoTimeToPrep:\n",
    "    a=np.append(a,0)\n",
    "yoTimeToPrep        "
   ]
  },
  {
   "cell_type": "code",
   "execution_count": 172,
   "metadata": {},
   "outputs": [
    {
     "data": {
      "text/latex": [
       "$\\displaystyle 31$"
      ],
      "text/plain": [
       "31"
      ]
     },
     "execution_count": 172,
     "metadata": {},
     "output_type": "execute_result"
    }
   ],
   "source": [
    "\n",
    "len(yoTimeToPrep)\n"
   ]
  },
  {
   "cell_type": "code",
   "execution_count": 149,
   "metadata": {},
   "outputs": [
    {
     "data": {
      "text/plain": [
       "array([2.08756261, 0.44372513])"
      ]
     },
     "execution_count": 149,
     "metadata": {},
     "output_type": "execute_result"
    }
   ],
   "source": [
    "#tuple(np.append(yoTimeToPrep[1],0))\n",
    "#yoTimeToPrep[1].append(0)\n",
    "yoTimeToPrep[1]\n"
   ]
  },
  {
   "cell_type": "code",
   "execution_count": 161,
   "metadata": {},
   "outputs": [
    {
     "data": {
      "text/latex": [
       "$\\displaystyle \\left[ \\left( 0.5266709736366106, \\  0.0, \\  0.0\\right), \\  \\left( 2.087562607973083, \\  0.4437251302216628, \\  0.0\\right), \\  \\left( 2.0064351388371446, \\  0.893322479021312, \\  0.0\\right), \\  \\left( 0.8297234128523641, \\  0.6028293459189923, \\  0.0\\right), \\  \\left( 1.3875784308618166, \\  1.5410619706221873, \\  0.0\\right), \\  \\left( 1.1039591011828553, \\  1.9121132527267761, \\  0.0\\right), \\  \\left( 0.6135056035257432, \\  1.888176095935948, \\  0.0\\right), \\  \\left( 0.24651474787467298, \\  2.3454311546204263, \\  0.0\\right), \\  \\left( -0.10076475811769905, \\  0.9587126328733739, \\  0.0\\right), \\  \\left( -0.5286068097879347, \\  1.6268844761230579, \\  0.0\\right), \\  \\left( -0.8603139734133073, \\  1.4901075124133092, \\  0.0\\right), \\  \\left( -1.2602928710648074, \\  1.3996970349545905, \\  0.0\\right), \\  \\left( -0.6430611408846553, \\  0.4672112669603491, \\  0.0\\right), \\  \\left( -1.9152375958028087, \\  0.8527187168327668, \\  0.0\\right), \\  \\left( -1.880087529346874, \\  0.3996249408766591, \\  0.0\\right), \\  \\left( -2.2415312598723967, \\  2.745084082591465e-16, \\  0.0\\right), \\  \\left( -1.2927554823417433, \\  -0.2747836604066316, \\  0.0\\right), \\  \\left( -1.7745396490261436, \\  -0.7900759549637801, \\  0.0\\right), \\  \\left( -0.4093341677169748, \\  -0.2973986810120612, \\  0.0\\right), \\  \\left( -1.0027258437877815, \\  -1.113639871053372, \\  0.0\\right), \\  \\left( -0.43578203313863306, \\  -0.7547966224217758, \\  0.0\\right), \\  \\left( -0.6135056035257435, \\  -1.888176095935948, \\  0.0\\right), \\  \\left( -0.24651474787467428, \\  -2.3454311546204263, \\  0.0\\right), \\  \\left( 0.10076475811769872, \\  -0.9587126328733739, \\  0.0\\right), \\  \\left( 0.6926712527232568, \\  -2.131822911180928, \\  0.0\\right), \\  \\left( 0.6608182044161419, \\  -1.144570704615196, \\  0.0\\right), \\  \\left( 1.2997697940776523, \\  -1.443540599699605, \\  0.0\\right), \\  \\left( 1.2294997843988327, \\  -0.8932838815391745, \\  0.0\\right), \\  \\left( 0.41382411684704634, \\  -0.1842463674927769, \\  0.0\\right), \\  \\left( 1.753492305794111, \\  -0.3727162954344362, \\  0.0\\right), \\  \\left( 0.5266709736366106, \\  0.0, \\  0.0\\right)\\right]$"
      ],
      "text/plain": [
       "[(0.5266709736366106, 0.0, 0.0), (2.087562607973083, 0.4437251302216628, 0.0),\n",
       " (2.0064351388371446, 0.893322479021312, 0.0), (0.8297234128523641, 0.60282934\n",
       "59189923, 0.0), (1.3875784308618166, 1.5410619706221873, 0.0), (1.103959101182\n",
       "8553, 1.9121132527267761, 0.0), (0.6135056035257432, 1.888176095935948, 0.0), \n",
       "(0.24651474787467298, 2.3454311546204263, 0.0), (-0.10076475811769905, 0.95871\n",
       "26328733739, 0.0), (-0.5286068097879347, 1.6268844761230579, 0.0), (-0.8603139\n",
       "734133073, 1.4901075124133092, 0.0), (-1.2602928710648074, 1.3996970349545905,\n",
       " 0.0), (-0.6430611408846553, 0.4672112669603491, 0.0), (-1.9152375958028087, 0\n",
       ".8527187168327668, 0.0), (-1.880087529346874, 0.3996249408766591, 0.0), (-2.24\n",
       "15312598723967, 2.745084082591465e-16, 0.0), (-1.2927554823417433, -0.27478366\n",
       "04066316, 0.0), (-1.7745396490261436, -0.7900759549637801, 0.0), (-0.409334167\n",
       "7169748, -0.2973986810120612, 0.0), (-1.0027258437877815, -1.113639871053372, \n",
       "0.0), (-0.43578203313863306, -0.7547966224217758, 0.0), (-0.6135056035257435, \n",
       "-1.888176095935948, 0.0), (-0.24651474787467428, -2.3454311546204263, 0.0), (0\n",
       ".10076475811769872, -0.9587126328733739, 0.0), (0.6926712527232568, -2.1318229\n",
       "11180928, 0.0), (0.6608182044161419, -1.144570704615196, 0.0), (1.299769794077\n",
       "6523, -1.443540599699605, 0.0), (1.2294997843988327, -0.8932838815391745, 0.0)\n",
       ", (0.41382411684704634, -0.1842463674927769, 0.0), (1.753492305794111, -0.3727\n",
       "162954344362, 0.0), (0.5266709736366106, 0.0, 0.0)]"
      ]
     },
     "execution_count": 161,
     "metadata": {},
     "output_type": "execute_result"
    }
   ],
   "source": [
    "import numpy as np\n",
    "finalResult = [ ]\n",
    "\n",
    "for i in range(0,len(yoTimeToPrep)):\n",
    "    yoTimeToPrep[i].append(0.0000000000000000)\n",
    "    #x=tuple(dunkin)\n",
    "    #print(tuple(yoTimeToPrep[i]))\n",
    "    finalResult.append(tuple(yoTimeToPrep[i]))\n",
    "finalResult"
   ]
  },
  {
   "cell_type": "code",
   "execution_count": 159,
   "metadata": {},
   "outputs": [
    {
     "name": "stdout",
     "output_type": "stream",
     "text": [
      "5.2667097363661064e-01\n",
      "0.0000000000000000e+00\n",
      "0.0000000000000000e+00\n",
      "2.0875626079730831e+00\n",
      "4.4372513022166282e-01\n",
      "0.0000000000000000e+00\n",
      "2.0064351388371446e+00\n",
      "8.9332247902131201e-01\n",
      "0.0000000000000000e+00\n",
      "8.2972341285236406e-01\n",
      "6.0282934591899229e-01\n",
      "0.0000000000000000e+00\n",
      "1.3875784308618166e+00\n",
      "1.5410619706221873e+00\n",
      "0.0000000000000000e+00\n",
      "1.1039591011828553e+00\n",
      "1.9121132527267761e+00\n",
      "0.0000000000000000e+00\n",
      "6.1350560352574324e-01\n",
      "1.8881760959359479e+00\n",
      "0.0000000000000000e+00\n",
      "2.4651474787467298e-01\n",
      "2.3454311546204263e+00\n",
      "0.0000000000000000e+00\n",
      "-1.0076475811769905e-01\n",
      "9.5871263287337394e-01\n",
      "0.0000000000000000e+00\n",
      "-5.2860680978793473e-01\n",
      "1.6268844761230579e+00\n",
      "0.0000000000000000e+00\n",
      "-8.6031397341330729e-01\n",
      "1.4901075124133092e+00\n",
      "0.0000000000000000e+00\n",
      "-1.2602928710648074e+00\n",
      "1.3996970349545905e+00\n",
      "0.0000000000000000e+00\n",
      "-6.4306114088465527e-01\n",
      "4.6721126696034909e-01\n",
      "0.0000000000000000e+00\n",
      "-1.9152375958028087e+00\n",
      "8.5271871683276679e-01\n",
      "0.0000000000000000e+00\n",
      "-1.8800875293468740e+00\n",
      "3.9962494087665912e-01\n",
      "0.0000000000000000e+00\n",
      "-2.2415312598723967e+00\n",
      "2.7450840825914648e-16\n",
      "0.0000000000000000e+00\n",
      "-1.2927554823417433e+00\n",
      "-2.7478366040663160e-01\n",
      "0.0000000000000000e+00\n",
      "-1.7745396490261436e+00\n",
      "-7.9007595496378014e-01\n",
      "0.0000000000000000e+00\n",
      "-4.0933416771697478e-01\n",
      "-2.9739868101206118e-01\n",
      "0.0000000000000000e+00\n",
      "-1.0027258437877815e+00\n",
      "-1.1136398710533719e+00\n",
      "0.0000000000000000e+00\n",
      "-4.3578203313863306e-01\n",
      "-7.5479662242177581e-01\n",
      "0.0000000000000000e+00\n",
      "-6.1350560352574346e-01\n",
      "-1.8881760959359479e+00\n",
      "0.0000000000000000e+00\n",
      "-2.4651474787467428e-01\n",
      "-2.3454311546204263e+00\n",
      "0.0000000000000000e+00\n",
      "1.0076475811769872e-01\n",
      "-9.5871263287337394e-01\n",
      "0.0000000000000000e+00\n",
      "6.9267125272325680e-01\n",
      "-2.1318229111809281e+00\n",
      "0.0000000000000000e+00\n",
      "6.6081820441614192e-01\n",
      "-1.1445707046151961e+00\n",
      "0.0000000000000000e+00\n",
      "1.2997697940776523e+00\n",
      "-1.4435405996996049e+00\n",
      "0.0000000000000000e+00\n",
      "1.2294997843988327e+00\n",
      "-8.9328388153917448e-01\n",
      "0.0000000000000000e+00\n",
      "4.1382411684704634e-01\n",
      "-1.8424636749277690e-01\n",
      "0.0000000000000000e+00\n",
      "1.7534923057941110e+00\n",
      "-3.7271629543443618e-01\n",
      "0.0000000000000000e+00\n",
      "5.2667097363661064e-01\n",
      "0.0000000000000000e+00\n",
      "0.0000000000000000e+00\n"
     ]
    },
    {
     "data": {
      "text/latex": [
       "$\\displaystyle \\left[ \\left( 0.5266709736366106, \\  0.0, \\  0.0\\right), \\  \\left( 2.087562607973083, \\  0.4437251302216628, \\  0.0\\right), \\  \\left( 2.0064351388371446, \\  0.893322479021312, \\  0.0\\right), \\  \\left( 0.8297234128523641, \\  0.6028293459189923, \\  0.0\\right), \\  \\left( 1.3875784308618166, \\  1.5410619706221873, \\  0.0\\right), \\  \\left( 1.1039591011828553, \\  1.9121132527267761, \\  0.0\\right), \\  \\left( 0.6135056035257432, \\  1.888176095935948, \\  0.0\\right), \\  \\left( 0.24651474787467298, \\  2.3454311546204263, \\  0.0\\right), \\  \\left( -0.10076475811769905, \\  0.9587126328733739, \\  0.0\\right), \\  \\left( -0.5286068097879347, \\  1.6268844761230579, \\  0.0\\right), \\  \\left( -0.8603139734133073, \\  1.4901075124133092, \\  0.0\\right), \\  \\left( -1.2602928710648074, \\  1.3996970349545905, \\  0.0\\right), \\  \\left( -0.6430611408846553, \\  0.4672112669603491, \\  0.0\\right), \\  \\left( -1.9152375958028087, \\  0.8527187168327668, \\  0.0\\right), \\  \\left( -1.880087529346874, \\  0.3996249408766591, \\  0.0\\right), \\  \\left( -2.2415312598723967, \\  2.745084082591465e-16, \\  0.0\\right), \\  \\left( -1.2927554823417433, \\  -0.2747836604066316, \\  0.0\\right), \\  \\left( -1.7745396490261436, \\  -0.7900759549637801, \\  0.0\\right), \\  \\left( -0.4093341677169748, \\  -0.2973986810120612, \\  0.0\\right), \\  \\left( -1.0027258437877815, \\  -1.113639871053372, \\  0.0\\right), \\  \\left( -0.43578203313863306, \\  -0.7547966224217758, \\  0.0\\right), \\  \\left( -0.6135056035257435, \\  -1.888176095935948, \\  0.0\\right), \\  \\left( -0.24651474787467428, \\  -2.3454311546204263, \\  0.0\\right), \\  \\left( 0.10076475811769872, \\  -0.9587126328733739, \\  0.0\\right), \\  \\left( 0.6926712527232568, \\  -2.131822911180928, \\  0.0\\right), \\  \\left( 0.6608182044161419, \\  -1.144570704615196, \\  0.0\\right), \\  \\left( 1.2997697940776523, \\  -1.443540599699605, \\  0.0\\right), \\  \\left( 1.2294997843988327, \\  -0.8932838815391745, \\  0.0\\right), \\  \\left( 0.41382411684704634, \\  -0.1842463674927769, \\  0.0\\right), \\  \\left( 1.753492305794111, \\  -0.3727162954344362, \\  0.0\\right), \\  \\left( 0.5266709736366106, \\  0.0, \\  0.0\\right)\\right]$"
      ],
      "text/plain": [
       "[(0.5266709736366106, 0.0, 0.0), (2.087562607973083, 0.4437251302216628, 0.0),\n",
       " (2.0064351388371446, 0.893322479021312, 0.0), (0.8297234128523641, 0.60282934\n",
       "59189923, 0.0), (1.3875784308618166, 1.5410619706221873, 0.0), (1.103959101182\n",
       "8553, 1.9121132527267761, 0.0), (0.6135056035257432, 1.888176095935948, 0.0), \n",
       "(0.24651474787467298, 2.3454311546204263, 0.0), (-0.10076475811769905, 0.95871\n",
       "26328733739, 0.0), (-0.5286068097879347, 1.6268844761230579, 0.0), (-0.8603139\n",
       "734133073, 1.4901075124133092, 0.0), (-1.2602928710648074, 1.3996970349545905,\n",
       " 0.0), (-0.6430611408846553, 0.4672112669603491, 0.0), (-1.9152375958028087, 0\n",
       ".8527187168327668, 0.0), (-1.880087529346874, 0.3996249408766591, 0.0), (-2.24\n",
       "15312598723967, 2.745084082591465e-16, 0.0), (-1.2927554823417433, -0.27478366\n",
       "04066316, 0.0), (-1.7745396490261436, -0.7900759549637801, 0.0), (-0.409334167\n",
       "7169748, -0.2973986810120612, 0.0), (-1.0027258437877815, -1.113639871053372, \n",
       "0.0), (-0.43578203313863306, -0.7547966224217758, 0.0), (-0.6135056035257435, \n",
       "-1.888176095935948, 0.0), (-0.24651474787467428, -2.3454311546204263, 0.0), (0\n",
       ".10076475811769872, -0.9587126328733739, 0.0), (0.6926712527232568, -2.1318229\n",
       "11180928, 0.0), (0.6608182044161419, -1.144570704615196, 0.0), (1.299769794077\n",
       "6523, -1.443540599699605, 0.0), (1.2294997843988327, -0.8932838815391745, 0.0)\n",
       ", (0.41382411684704634, -0.1842463674927769, 0.0), (1.753492305794111, -0.3727\n",
       "162954344362, 0.0), (0.5266709736366106, 0.0, 0.0)]"
      ]
     },
     "execution_count": 159,
     "metadata": {},
     "output_type": "execute_result"
    }
   ],
   "source": [
    "#np.format_float_scientific(finalResult)\n",
    "for x in finalResult:\n",
    "    for y in x:\n",
    "        y=np.format_float_scientific(y, unique=False, precision=16,exp_digits=2)\n",
    "        print(y)\n",
    "finalResult"
   ]
  },
  {
   "cell_type": "code",
   "execution_count": 152,
   "metadata": {},
   "outputs": [
    {
     "data": {
      "text/latex": [
       "$\\displaystyle \\left[ \\left( 2, \\  3, \\  4\\right), \\  \\left( 1, \\  6, \\  7\\right)\\right]$"
      ],
      "text/plain": [
       "[(2, 3, 4), (1, 6, 7)]"
      ]
     },
     "execution_count": 152,
     "metadata": {},
     "output_type": "execute_result"
    }
   ],
   "source": [
    "mything=[(2,3,4),(1,6,7)]\n",
    "mything"
   ]
  },
  {
   "cell_type": "code",
   "execution_count": 106,
   "metadata": {},
   "outputs": [
    {
     "data": {
      "text/latex": [
       "$\\displaystyle \\left[ \\left( 2, \\  3, \\  4\\right), \\  \\left( 1, \\  6, \\  7\\right), \\  \\left( 2, \\  3, \\  9\\right), \\  \\left( 2, \\  3, \\  9\\right)\\right]$"
      ],
      "text/plain": [
       "[(2, 3, 4), (1, 6, 7), (2, 3, 9), (2, 3, 9)]"
      ]
     },
     "execution_count": 106,
     "metadata": {},
     "output_type": "execute_result"
    }
   ],
   "source": [
    "mything.append((2,3,9))\n",
    "mything"
   ]
  },
  {
   "cell_type": "code",
   "execution_count": null,
   "metadata": {},
   "outputs": [],
   "source": []
  }
 ],
 "metadata": {
  "kernelspec": {
   "display_name": "Python 3",
   "language": "python",
   "name": "python3"
  },
  "language_info": {
   "codemirror_mode": {
    "name": "ipython",
    "version": 3
   },
   "file_extension": ".py",
   "mimetype": "text/x-python",
   "name": "python",
   "nbconvert_exporter": "python",
   "pygments_lexer": "ipython3",
   "version": "3.7.3"
  }
 },
 "nbformat": 4,
 "nbformat_minor": 2
}
